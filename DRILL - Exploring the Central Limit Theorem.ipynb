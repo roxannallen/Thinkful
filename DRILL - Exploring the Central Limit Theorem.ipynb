{
 "cells": [
  {
   "cell_type": "code",
   "execution_count": 1,
   "metadata": {},
   "outputs": [],
   "source": [
    "import numpy as np\n",
    "import pandas as pd\n",
    "import scipy\n",
    "import matplotlib.pyplot as plt\n",
    "%matplotlib inline"
   ]
  },
  {
   "cell_type": "code",
   "execution_count": 12,
   "metadata": {},
   "outputs": [
    {
     "name": "stdout",
     "output_type": "stream",
     "text": [
      "1.9\n",
      "4.78\n",
      "1.2609520212918492\n",
      "1.5784802817900512\n",
      "2.8800000000000003\n"
     ]
    },
    {
     "data": {
      "image/png": "[encoded data removed]",
      "text/plain": [
       "<Figure size 432x288 with 1 Axes>"
      ]
     },
     "metadata": {
      "needs_background": "light"
     },
     "output_type": "display_data"
    }
   ],
   "source": [
    "# Sample size = 100\n",
    "pop1 = np.random.binomial(10, 0.2, 10000)\n",
    "pop2 = np.random.binomial(10,0.5, 10000) \n",
    "\n",
    "sample1 = np.random.choice(pop1, 100)\n",
    "sample2 = np.random.choice(pop2, 100)\n",
    "\n",
    "print(sample1.mean())\n",
    "print(sample2.mean())\n",
    "print(sample1.std())\n",
    "print(sample2.std())\n",
    "\n",
    "# Compute the difference between the two sample means.\n",
    "diff=sample2.mean( ) -sample1.mean()\n",
    "print(diff)\n",
    "\n",
    "plt.hist(sample1, alpha=0.5, label='sample 1') \n",
    "plt.hist(sample2, alpha=0.5, label='sample 2') \n",
    "plt.legend(loc='upper right') \n",
    "plt.show()"
   ]
  },
  {
   "cell_type": "code",
   "execution_count": 13,
   "metadata": {},
   "outputs": [
    {
     "name": "stdout",
     "output_type": "stream",
     "text": [
      "2.015\n",
      "4.924\n",
      "1.2493098094548045\n",
      "1.542797459163062\n",
      "2.9090000000000003\n"
     ]
    },
    {
     "data": {
      "image/png": "[encoded data removed]",
      "text/plain": [
       "<Figure size 432x288 with 1 Axes>"
      ]
     },
     "metadata": {
      "needs_background": "light"
     },
     "output_type": "display_data"
    }
   ],
   "source": [
    "# Increase sample size to 1000 - I expect the mean will double in size and the standard deviation to decrease.\n",
    "pop1 = np.random.binomial(10, 0.2, 10000)\n",
    "pop2 = np.random.binomial(10,0.5, 10000) \n",
    "\n",
    "sample1 = np.random.choice(pop1, 1000, replace=True)\n",
    "sample2 = np.random.choice(pop2, 1000, replace=True)\n",
    "\n",
    "print(sample1.mean())\n",
    "print(sample2.mean())\n",
    "print(sample1.std())\n",
    "print(sample2.std())\n",
    "\n",
    "# Compute the difference between the two sample means.\n",
    "diff=sample2.mean( ) -sample1.mean()\n",
    "print(diff)\n",
    "\n",
    "plt.hist(sample1, alpha=0.5, label='sample 1') \n",
    "plt.hist(sample2, alpha=0.5, label='sample 2') \n",
    "plt.legend(loc='upper right') \n",
    "plt.show()"
   ]
  },
  {
   "cell_type": "markdown",
   "metadata": {},
   "source": [
    "Indeed, the mean doubled and the standard deviation decreased."
   ]
  },
  {
   "cell_type": "code",
   "execution_count": 14,
   "metadata": {},
   "outputs": [
    {
     "name": "stdout",
     "output_type": "stream",
     "text": [
      "2.25\n",
      "5.3\n",
      "1.3369741957120937\n",
      "1.8466185312619388\n",
      "3.05\n"
     ]
    },
    {
     "data": {
      "image/png": "[encoded data removed]",
      "text/plain": [
       "<Figure size 432x288 with 1 Axes>"
      ]
     },
     "metadata": {
      "needs_background": "light"
     },
     "output_type": "display_data"
    }
   ],
   "source": [
    "# Change the sample size to 20 - I expect the mean will decrease and the standard deviation will increase.\n",
    "\n",
    "pop1 = np.random.binomial(10, 0.2, 10000) \n",
    "pop2 = np.random.binomial(10,0.5, 10000)\n",
    "\n",
    "sample1 = np.random.choice(pop1, 20, replace=True) \n",
    "sample2 = np.random.choice(pop2, 20, replace=True)\n",
    "\n",
    "print(sample1.mean()) \n",
    "print(sample2.mean()) \n",
    "print(sample1.std()) \n",
    "print(sample2.std())\n",
    "\n",
    "# Compute the difference between the two sample means.\n",
    "diff=sample2.mean( ) -sample1.mean()\n",
    "print(diff)\n",
    "\n",
    "plt.hist(sample1, alpha=0.5, label='sample 1') \n",
    "plt.hist(sample2, alpha=0.5, label='sample 2') \n",
    "plt.legend(loc='upper right') \n",
    "plt.show()"
   ]
  },
  {
   "cell_type": "markdown",
   "metadata": {},
   "source": [
    "The mean actually increased and the standard deviation did increase."
   ]
  },
  {
   "cell_type": "code",
   "execution_count": 16,
   "metadata": {},
   "outputs": [
    {
     "name": "stdout",
     "output_type": "stream",
     "text": [
      "Ttest_indResult(statistic=9.81778908101305, pvalue=8.737494916160999e-19)\n"
     ]
    }
   ],
   "source": [
    "# Pop1 p = .3\n",
    "pop1 = np.random.binomial(10, 0.3, 10000)\n",
    "pop2 = np.random.binomial(10,0.5, 10000) \n",
    "\n",
    "sample1 = np.random.choice(pop1, 100, replace=True)\n",
    "sample2 = np.random.choice(pop2, 100, replace=True)\n",
    "\n",
    "from scipy.stats import ttest_ind\n",
    "print(ttest_ind(sample2, sample1, equal_var=False))"
   ]
  },
  {
   "cell_type": "code",
   "execution_count": 17,
   "metadata": {},
   "outputs": [
    {
     "name": "stdout",
     "output_type": "stream",
     "text": [
      "Ttest_indResult(statistic=5.410026732628954, pvalue=1.817889426756101e-07)\n"
     ]
    }
   ],
   "source": [
    "# Pop1 p = .4\n",
    "pop1 = np.random.binomial(10, 0.4, 10000)\n",
    "pop2 = np.random.binomial(10,0.5, 10000) \n",
    "\n",
    "sample1 = np.random.choice(pop1, 100, replace=True)\n",
    "sample2 = np.random.choice(pop2, 100, replace=True)\n",
    "\n",
    "from scipy.stats import ttest_ind\n",
    "print(ttest_ind(sample2, sample1, equal_var=False))"
   ]
  },
  {
   "cell_type": "markdown",
   "metadata": {},
   "source": [
    "The t statistic and the p value both decreased because the samples are becoming more similar."
   ]
  },
  {
   "cell_type": "code",
   "execution_count": 18,
   "metadata": {},
   "outputs": [
    {
     "name": "stdout",
     "output_type": "stream",
     "text": [
      "2.0250205757110518\n",
      "4.992903326825083\n",
      "0.6374709433308213\n",
      "1.5441401943417743\n",
      "2.967882751114031\n"
     ]
    },
    {
     "data": {
      "image/png": "[encoded data removed]",
      "text/plain": [
       "<Figure size 432x288 with 1 Axes>"
      ]
     },
     "metadata": {
      "needs_background": "light"
     },
     "output_type": "display_data"
    }
   ],
   "source": [
    "# Gamma distribution\n",
    "pop1 = np.random.gamma(10, 0.2, 10000)\n",
    "pop2 = np.random.gamma(10,0.5, 10000) \n",
    "\n",
    "sample1 = np.random.choice(pop1, 1000, replace=True)\n",
    "sample2 = np.random.choice(pop2, 1000, replace=True)\n",
    "\n",
    "print(sample1.mean()) \n",
    "print(sample2.mean()) \n",
    "print(sample1.std()) \n",
    "print(sample2.std())\n",
    "\n",
    "# Compute the difference between the two sample means.\n",
    "diff=sample2.mean( ) -sample1.mean()\n",
    "print(diff)\n",
    "\n",
    "plt.hist(sample1, alpha=0.5, label='sample 1') \n",
    "plt.hist(sample2, alpha=0.5, label='sample 2') \n",
    "plt.legend(loc='upper right') \n",
    "plt.show()"
   ]
  },
  {
   "cell_type": "markdown",
   "metadata": {},
   "source": [
    "The results with the gamma distribution are similar to the binomial distribution since the sample size is large, which is a key tenet of the Central Limit Theorem."
   ]
  },
  {
   "cell_type": "code",
   "execution_count": null,
   "metadata": {},
   "outputs": [],
   "source": []
  }
 ],
 "metadata": {
  "kernelspec": {
   "display_name": "Python 3",
   "language": "python",
   "name": "python3"
  },
  "language_info": {
   "codemirror_mode": {
    "name": "ipython",
    "version": 3
   },
   "file_extension": ".py",
   "mimetype": "text/x-python",
   "name": "python",
   "nbconvert_exporter": "python",
   "pygments_lexer": "ipython3",
   "version": "3.7.1"
  }
 },
 "nbformat": 4,
 "nbformat_minor": 2
}
