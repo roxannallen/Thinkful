{
 "cells": [
  {
   "cell_type": "markdown",
   "metadata": {},
   "source": [
    "- For the Amsterdam data, your data would have bias because it is for December 24, Christmas Eve. Some people might not put their property for use by AirBnB users because of this holiday time, which introduces bias. Or some people might be more likely to travel because they have the time off. So you would want to choose a time not near such a major holiday that many people in that part of the world would participate in.\n",
    "\n",
    "- There was a terrorist attack on September 11, 2001, in New York, NY, which would affect participation rates in mental health in New York City. So that introduces bias in the data such that this study would not be reliable. One might compare the participation in mental health given that one city has experienced a terrorist attack. Or choose a different date.\n",
    "\n",
    "- In the occupation column, most of the participants are students or students who also work. So the study is not about all Armenian pub goers, but just students, and should be re-framed as such."
   ]
  }
 ],
 "metadata": {
  "kernelspec": {
   "display_name": "Python 3",
   "language": "python",
   "name": "python3"
  },
  "language_info": {
   "codemirror_mode": {
    "name": "ipython",
    "version": 3
   },
   "file_extension": ".py",
   "mimetype": "text/x-python",
   "name": "python",
   "nbconvert_exporter": "python",
   "pygments_lexer": "ipython3",
   "version": "3.7.1"
  }
 },
 "nbformat": 4,
 "nbformat_minor": 2
}
