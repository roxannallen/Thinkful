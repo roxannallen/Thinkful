{
 "cells": [
  {
   "cell_type": "code",
   "execution_count": 22,
   "metadata": {},
   "outputs": [],
   "source": [
    "import pandas as pd\n",
    "import numpy as np\n",
    "import matplotlib as plt\n",
    "import statistics"
   ]
  },
  {
   "cell_type": "code",
   "execution_count": 37,
   "metadata": {},
   "outputs": [
    {
     "name": "stdout",
     "output_type": "stream",
     "text": [
      "mean:  9.857142857142858\n",
      "median:  10.0\n",
      "mode:  8\n",
      "variance:  6.408163265306122\n",
      "std. deviation : 2.531435020952764\n",
      "standard error : 1.0334540197243194\n"
     ]
    }
   ],
   "source": [
    "age = [14, 12, 11, 10, 8, 6, 8]\n",
    "\n",
    "def summarystats(age):\n",
    "    print(\"mean: \",np.mean(age))\n",
    "    print(\"median: \",np.median(age))\n",
    "    print(\"mode: \",statistics.mode(age))\n",
    "    print(\"variance: \",np.var(age))\n",
    "    print(\"std. deviation :\",np.std(age))\n",
    "    print(\"standard error :\",np.std(age)/np.sqrt(len(age)-1))\n",
    "    \n",
    "summarystats(age)"
   ]
  },
  {
   "cell_type": "markdown",
   "metadata": {},
   "source": [
    "I would choose the mean for the measure of central tendency and the standard deviation for the measure of variance to describe the data. I would choose the mean because mathematically it is more useful when doing statistics, and in this case it falls between both the median and the mode, so it's a bit of a better estimate of the center of those age groups. Also, there aren't a lot of outliers, which is when the mean isn't as helpful. I choose the standard deviation because it is a standardized measure of the variance, which is a more accurate depiction of the spread of the ages."
   ]
  },
  {
   "cell_type": "code",
   "execution_count": 34,
   "metadata": {},
   "outputs": [
    {
     "name": "stdout",
     "output_type": "stream",
     "text": [
      "mean:  10.0\n",
      "median:  10.0\n",
      "mode:  8\n",
      "variance:  5.428571428571429\n",
      "std. deviation : 2.32992949004287\n",
      "standard error : 0.951189731211342\n"
     ]
    }
   ],
   "source": [
    "def summarystats(ages2):\n",
    "    print(\"mean: \",np.mean(ages2))\n",
    "    print(\"median: \",np.median(ages2))\n",
    "    print(\"mode: \",statistics.mode(ages2))\n",
    "    print(\"variance: \",np.var(ages2))\n",
    "    print(\"std. deviation :\",np.std(ages2))\n",
    "    print(\"standard error :\",np.std(ages2)/np.sqrt(len(ages2)-1))\n",
    "ages2 =[14,12,11,10,8,7,8]\n",
    "summarystats(ages2)"
   ]
  },
  {
   "cell_type": "markdown",
   "metadata": {},
   "source": [
    "The mean, median, variance, standard deviation, and standard error changed. The mode did not change."
   ]
  },
  {
   "cell_type": "code",
   "execution_count": 45,
   "metadata": {},
   "outputs": [
    {
     "name": "stdout",
     "output_type": "stream",
     "text": [
      "mean:  9.0\n",
      "median:  10.0\n",
      "mode: none\n",
      "variance:  15.428571428571429\n",
      "std. deviation : 3.927922024247863\n",
      "standard error : 1.6035674514745466\n"
     ]
    }
   ],
   "source": [
    "def summarystats(ages3):\n",
    "    print(\"mean: \",np.mean(ages3))\n",
    "    print(\"median: \",np.median(ages3))\n",
    "    print(\"mode: none\")\n",
    "    print(\"variance: \",np.var(ages3))\n",
    "    print(\"std. deviation :\",np.std(ages3))\n",
    "    print(\"standard error :\",np.std(ages3)/np.sqrt(len(ages3)-1))\n",
    "ages3 =[14,12,11,10,8,7,1]\n",
    "summarystats(ages3)"
   ]
  },
  {
   "cell_type": "markdown",
   "metadata": {},
   "source": [
    "The mean and median are now farther way since there is an outlier of 1 in the data now, so the median would be a better measure of central tendency now."
   ]
  },
  {
   "cell_type": "code",
   "execution_count": 48,
   "metadata": {},
   "outputs": [
    {
     "name": "stdout",
     "output_type": "stream",
     "text": [
      "Percentage of adult Americans I would estimate were Brady Bunch fans on the 50th anniversary of the show:  20.0\n"
     ]
    }
   ],
   "source": [
    "fans = [20, 23, 17, 5]\n",
    "\n",
    "#eliminate the 5% of SciPhi Phanatic fans since that is an outlier.\n",
    "\n",
    "fans = [20, 23, 17]\n",
    "\n",
    "print(\"Percentage of adult Americans I would estimate were Brady Bunch fans on the 50th anniversary of the show: \",np.mean(fans))"
   ]
  },
  {
   "cell_type": "code",
   "execution_count": null,
   "metadata": {},
   "outputs": [],
   "source": []
  }
 ],
 "metadata": {
  "kernelspec": {
   "display_name": "Python 3",
   "language": "python",
   "name": "python3"
  },
  "language_info": {
   "codemirror_mode": {
    "name": "ipython",
    "version": 3
   },
   "file_extension": ".py",
   "mimetype": "text/x-python",
   "name": "python",
   "nbconvert_exporter": "python",
   "pygments_lexer": "ipython3",
   "version": "3.7.1"
  }
 },
 "nbformat": 4,
 "nbformat_minor": 2
}
